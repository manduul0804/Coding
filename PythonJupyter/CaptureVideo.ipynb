{
 "cells": [
  {
   "cell_type": "code",
   "execution_count": 56,
   "metadata": {},
   "outputs": [],
   "source": [
    "import cv2\n",
    "import numpy as np"
   ]
  },
  {
   "cell_type": "code",
   "execution_count": 57,
   "metadata": {},
   "outputs": [],
   "source": [
    "# Create global mouse coordinates\n",
    "x_mouse = 0\n",
    "y_mouse = 0\n",
    "\n",
    "# mouse events function\n",
    "def mouse_events(event, x, y, flags, param):\n",
    "    # mouse movement event\n",
    "    if event == cv2.EVENT_MOUSEMOVE:\n",
    "    # update global mouse coordinates\n",
    "        global x_mouse\n",
    "        global y_mouse\n",
    "        \n",
    "    x_mouse = x\n",
    "    y_mouse = y\n"
   ]
  },
  {
   "cell_type": "code",
   "execution_count": 58,
   "metadata": {},
   "outputs": [
    {
     "data": {
      "text/plain": [
       "True"
      ]
     },
     "execution_count": 58,
     "metadata": {},
     "output_type": "execute_result"
    }
   ],
   "source": [
    "thermal_camera = cv2.VideoCapture(2)\n",
    "# set up the thermal camera resolution\n",
    "thermal_camera.set(cv2.CAP_PROP_FRAME_WIDTH, 160)\n",
    "thermal_camera.set(cv2.CAP_PROP_FRAME_HEIGHT, 120)"
   ]
  },
  {
   "cell_type": "code",
   "execution_count": 59,
   "metadata": {},
   "outputs": [
    {
     "data": {
      "text/plain": [
       "True"
      ]
     },
     "execution_count": 59,
     "metadata": {},
     "output_type": "execute_result"
    }
   ],
   "source": [
    "# set up the thermal camera to get the gray16 stream and raw data\n",
    "thermal_camera.set(cv2.CAP_PROP_FOURCC, cv2.VideoWriter.fourcc('Y','1','6',' '))\n",
    "thermal_camera.set(cv2.CAP_PROP_CONVERT_RGB, 0)"
   ]
  },
  {
   "cell_type": "code",
   "execution_count": 60,
   "metadata": {},
   "outputs": [],
   "source": [
    "# set up mouse events and prepare the thermal frame display\n",
    "grabbed, frame_thermal = thermal_camera.read()\n",
    "cv2.imshow('gray8', frame_thermal)\n",
    "cv2.setMouseCallback('gray8', mouse_events)"
   ]
  },
  {
   "cell_type": "code",
   "execution_count": 61,
   "metadata": {},
   "outputs": [
    {
     "ename": "KeyboardInterrupt",
     "evalue": "",
     "output_type": "error",
     "traceback": [
      "\u001b[0;31m---------------------------------------------------------------------------\u001b[0m",
      "\u001b[0;31mKeyboardInterrupt\u001b[0m                         Traceback (most recent call last)",
      "\u001b[1;32m/home/manduul/Github/Coding/PythonJupyter/CaptureVideo.ipynb Cell 6\u001b[0m in \u001b[0;36m3\n\u001b[1;32m     <a href='vscode-notebook-cell:/home/manduul/Github/Coding/PythonJupyter/CaptureVideo.ipynb#W5sZmlsZQ%3D%3D?line=28'>29</a>\u001b[0m     cv2\u001b[39m.\u001b[39mputText(thermal_frame, \u001b[39m\"\u001b[39m\u001b[39m{0:.1f}\u001b[39;00m\u001b[39m Fahrenheit\u001b[39m\u001b[39m\"\u001b[39m\u001b[39m.\u001b[39mformat(temperature_pointer), (x_mouse \u001b[39m-\u001b[39m \u001b[39m40\u001b[39m, y_mouse \u001b[39m-\u001b[39m \u001b[39m15\u001b[39m), cv2\u001b[39m.\u001b[39mFONT_HERSHEY_PLAIN, \u001b[39m1\u001b[39m, (\u001b[39m255\u001b[39m, \u001b[39m255\u001b[39m, \u001b[39m255\u001b[39m), \u001b[39m1\u001b[39m)\n\u001b[1;32m     <a href='vscode-notebook-cell:/home/manduul/Github/Coding/PythonJupyter/CaptureVideo.ipynb#W5sZmlsZQ%3D%3D?line=31'>32</a>\u001b[0m     \u001b[39m# show the thermal frame\u001b[39;00m\n\u001b[0;32m---> <a href='vscode-notebook-cell:/home/manduul/Github/Coding/PythonJupyter/CaptureVideo.ipynb#W5sZmlsZQ%3D%3D?line=32'>33</a>\u001b[0m     cv2\u001b[39m.\u001b[39;49mimshow(\u001b[39m'\u001b[39;49m\u001b[39mgray8\u001b[39;49m\u001b[39m'\u001b[39;49m, thermal_frame)\n\u001b[1;32m     <a href='vscode-notebook-cell:/home/manduul/Github/Coding/PythonJupyter/CaptureVideo.ipynb#W5sZmlsZQ%3D%3D?line=33'>34</a>\u001b[0m     cv2\u001b[39m.\u001b[39mwaitKey(\u001b[39m1\u001b[39m)\n\u001b[1;32m     <a href='vscode-notebook-cell:/home/manduul/Github/Coding/PythonJupyter/CaptureVideo.ipynb#W5sZmlsZQ%3D%3D?line=34'>35</a>\u001b[0m \u001b[39m# do a bit of cleanup\u001b[39;00m\n",
      "\u001b[0;31mKeyboardInterrupt\u001b[0m: "
     ]
    }
   ],
   "source": [
    "# loop over the thermal camera frames\n",
    "while True:\n",
    "    \n",
    "    # grab the frame from the thermal camera stream\n",
    "    (grabbed, thermal_frame) = thermal_camera.read()\n",
    "\n",
    "    # Increase frame size\n",
    "    up_width = 800\n",
    "    up_height = 600\n",
    "    up_points = (up_width, up_height) \n",
    "    thermal_frame = cv2.resize(thermal_frame, up_points, interpolation= cv2.INTER_LINEAR)\n",
    "\n",
    "  \n",
    "    # calculate temperature\n",
    "    temperature_pointer = thermal_frame[y_mouse, x_mouse]\n",
    "    # temperature_pointer = (temperature_pointer / 100) - 273.15\n",
    "    temperature_pointer = (temperature_pointer / 100) * 9 / 5 - 459.67\n",
    "    # convert the gray16 image into a gray8\n",
    "    cv2.normalize(thermal_frame, thermal_frame, 0, 255, cv2.NORM_MINMAX)\n",
    "    thermal_frame = np.uint8(thermal_frame)\n",
    "\n",
    "    \n",
    "    # colorized the gray8 image using OpenCV colormaps\n",
    "    thermal_frame = cv2.applyColorMap(thermal_frame, cv2.COLORMAP_INFERNO)\n",
    "    \n",
    "    # write pointer\n",
    "    cv2.circle(thermal_frame, (x_mouse, y_mouse), 2, (255, 255, 255), -1)\n",
    "    # write temperature\n",
    "    cv2.putText(thermal_frame, \"{0:.1f} Fahrenheit\".format(temperature_pointer), (x_mouse - 40, y_mouse - 15), cv2.FONT_HERSHEY_PLAIN, 1, (255, 255, 255), 1)\n",
    "    \n",
    "    \n",
    "    # show the thermal frame\n",
    "    cv2.imshow('gray8', thermal_frame)\n",
    "    cv2.waitKey(1)\n",
    "# do a bit of cleanup\n",
    "thermal_camera.release()\n",
    "cv2.destroyAllWindows()"
   ]
  },
  {
   "cell_type": "code",
   "execution_count": null,
   "metadata": {},
   "outputs": [],
   "source": []
  }
 ],
 "metadata": {
  "kernelspec": {
   "display_name": "Python 3",
   "language": "python",
   "name": "python3"
  },
  "language_info": {
   "codemirror_mode": {
    "name": "ipython",
    "version": 3
   },
   "file_extension": ".py",
   "mimetype": "text/x-python",
   "name": "python",
   "nbconvert_exporter": "python",
   "pygments_lexer": "ipython3",
   "version": "3.11.2"
  },
  "orig_nbformat": 4
 },
 "nbformat": 4,
 "nbformat_minor": 2
}
