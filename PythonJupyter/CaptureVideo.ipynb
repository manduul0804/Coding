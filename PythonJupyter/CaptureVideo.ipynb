{
 "cells": [
  {
   "cell_type": "code",
   "execution_count": 12,
   "metadata": {},
   "outputs": [],
   "source": [
    "import cv2\n",
    "import numpy as np"
   ]
  },
  {
   "cell_type": "code",
   "execution_count": 13,
   "metadata": {},
   "outputs": [],
   "source": [
    "# Create global mouse coordinates\n",
    "x_mouse = 0\n",
    "y_mouse = 0\n",
    "\n",
    "# mouse events function\n",
    "def mouse_events(event, x, y, flags, param):\n",
    "    # mouse movement event\n",
    "    if event == cv2.EVENT_MOUSEMOVE:\n",
    "    # update global mouse coordinates\n",
    "        global x_mouse\n",
    "        global y_mouse\n",
    "        \n",
    "    x_mouse = x\n",
    "    y_mouse = y\n"
   ]
  },
  {
   "cell_type": "code",
   "execution_count": 14,
   "metadata": {},
   "outputs": [
    {
     "data": {
      "text/plain": [
       "True"
      ]
     },
     "execution_count": 14,
     "metadata": {},
     "output_type": "execute_result"
    }
   ],
   "source": [
    "thermal_camera = cv2.VideoCapture(2)\n",
    "# set up the thermal camera resolution\n",
    "thermal_camera.set(cv2.CAP_PROP_FRAME_WIDTH, 160)\n",
    "thermal_camera.set(cv2.CAP_PROP_FRAME_HEIGHT, 120)"
   ]
  },
  {
   "cell_type": "code",
   "execution_count": 15,
   "metadata": {},
   "outputs": [
    {
     "data": {
      "text/plain": [
       "True"
      ]
     },
     "execution_count": 15,
     "metadata": {},
     "output_type": "execute_result"
    }
   ],
   "source": [
    "# set up the thermal camera to get the gray16 stream and raw data\n",
    "thermal_camera.set(cv2.CAP_PROP_FOURCC, cv2.VideoWriter.fourcc('Y','1','6',' '))\n",
    "thermal_camera.set(cv2.CAP_PROP_CONVERT_RGB, 0)"
   ]
  },
  {
   "cell_type": "code",
   "execution_count": 16,
   "metadata": {},
   "outputs": [],
   "source": [
    "# set up mouse events and prepare the thermal frame display\n",
    "grabbed, frame_thermal = thermal_camera.read()\n",
    "cv2.imshow('gray8', frame_thermal)\n",
    "cv2.setMouseCallback('gray8', mouse_events)"
   ]
  },
  {
   "cell_type": "code",
   "execution_count": 17,
   "metadata": {},
   "outputs": [
    {
     "ename": "KeyboardInterrupt",
     "evalue": "",
     "output_type": "error",
     "traceback": [
      "\u001b[0;31m---------------------------------------------------------------------------\u001b[0m",
      "\u001b[0;31mKeyboardInterrupt\u001b[0m                         Traceback (most recent call last)",
      "\u001b[1;32m/home/manduul/Github/Coding/PythonJupyter/CaptureVideo.ipynb Cell 6\u001b[0m in \u001b[0;36m5\n\u001b[1;32m      <a href='vscode-notebook-cell:/home/manduul/Github/Coding/PythonJupyter/CaptureVideo.ipynb#W5sZmlsZQ%3D%3D?line=0'>1</a>\u001b[0m \u001b[39m# loop over the thermal camera frames\u001b[39;00m\n\u001b[1;32m      <a href='vscode-notebook-cell:/home/manduul/Github/Coding/PythonJupyter/CaptureVideo.ipynb#W5sZmlsZQ%3D%3D?line=1'>2</a>\u001b[0m \u001b[39mwhile\u001b[39;00m \u001b[39mTrue\u001b[39;00m:\n\u001b[1;32m      <a href='vscode-notebook-cell:/home/manduul/Github/Coding/PythonJupyter/CaptureVideo.ipynb#W5sZmlsZQ%3D%3D?line=2'>3</a>\u001b[0m     \n\u001b[1;32m      <a href='vscode-notebook-cell:/home/manduul/Github/Coding/PythonJupyter/CaptureVideo.ipynb#W5sZmlsZQ%3D%3D?line=3'>4</a>\u001b[0m     \u001b[39m# grab the frame from the thermal camera stream\u001b[39;00m\n\u001b[0;32m----> <a href='vscode-notebook-cell:/home/manduul/Github/Coding/PythonJupyter/CaptureVideo.ipynb#W5sZmlsZQ%3D%3D?line=4'>5</a>\u001b[0m     (grabbed, thermal_frame) \u001b[39m=\u001b[39m thermal_camera\u001b[39m.\u001b[39;49mread()\n\u001b[1;32m      <a href='vscode-notebook-cell:/home/manduul/Github/Coding/PythonJupyter/CaptureVideo.ipynb#W5sZmlsZQ%3D%3D?line=6'>7</a>\u001b[0m     \u001b[39m# Increase frame size\u001b[39;00m\n\u001b[1;32m      <a href='vscode-notebook-cell:/home/manduul/Github/Coding/PythonJupyter/CaptureVideo.ipynb#W5sZmlsZQ%3D%3D?line=7'>8</a>\u001b[0m     up_width \u001b[39m=\u001b[39m \u001b[39m800\u001b[39m\n",
      "\u001b[0;31mKeyboardInterrupt\u001b[0m: "
     ]
    }
   ],
   "source": [
    "# loop over the thermal camera frames\n",
    "while True:\n",
    "    \n",
    "    # grab the frame from the thermal camera stream\n",
    "    (grabbed, thermal_frame) = thermal_camera.read()\n",
    "\n",
    "    # Increase frame size\n",
    "    up_width = 800\n",
    "    up_height = 600\n",
    "    up_points = (up_width, up_height) \n",
    "    thermal_frame = cv2.resize(thermal_frame, up_points, interpolation= cv2.INTER_LINEAR)\n",
    "\n",
    "  \n",
    "    # calculate temperature\n",
    "    temperature_pointer = thermal_frame[y_mouse, x_mouse]\n",
    "    temperature_pointer = (temperature_pointer / 100) - 273.15\n",
    "    # temperature_pointer = (temperature_pointer / 100) * 9 / 5 - 459.67\n",
    "    # convert the gray16 image into a gray8\n",
    "    cv2.normalize(thermal_frame, thermal_frame, 0, 255, cv2.NORM_MINMAX)\n",
    "    thermal_frame = np.uint8(thermal_frame)\n",
    "\n",
    "    \n",
    "    # colorized the gray8 image using OpenCV colormaps\n",
    "    thermal_frame = cv2.applyColorMap(thermal_frame, cv2.COLORMAP_INFERNO)\n",
    "    \n",
    "    # write pointer\n",
    "    cv2.circle(thermal_frame, (x_mouse, y_mouse), 2, (255, 255, 255), -1)\n",
    "    # write temperature\n",
    "    cv2.putText(thermal_frame, \"{0:.1f} Celsius\".format(temperature_pointer), (x_mouse - 40, y_mouse - 15), cv2.FONT_HERSHEY_PLAIN, 1, (255, 255, 255), 1)\n",
    "    \n",
    "    \n",
    "    # show the thermal frame\n",
    "    cv2.imshow('gray8', thermal_frame)\n",
    "    cv2.waitKey(1)\n",
    "# do a bit of cleanup\n",
    "thermal_camera.release()\n",
    "cv2.destroyAllWindows()"
   ]
  },
  {
   "cell_type": "code",
   "execution_count": null,
   "metadata": {},
   "outputs": [],
   "source": []
  }
 ],
 "metadata": {
  "kernelspec": {
   "display_name": "Python 3",
   "language": "python",
   "name": "python3"
  },
  "language_info": {
   "codemirror_mode": {
    "name": "ipython",
    "version": 3
   },
   "file_extension": ".py",
   "mimetype": "text/x-python",
   "name": "python",
   "nbconvert_exporter": "python",
   "pygments_lexer": "ipython3",
   "version": "3.11.2"
  },
  "orig_nbformat": 4
 },
 "nbformat": 4,
 "nbformat_minor": 2
}
